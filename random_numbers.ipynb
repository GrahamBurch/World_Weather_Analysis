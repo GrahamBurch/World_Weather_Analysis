{
 "cells": [
  {
   "cell_type": "code",
   "execution_count": 1,
   "id": "b7bee2a7",
   "metadata": {},
   "outputs": [],
   "source": [
    "import random"
   ]
  },
  {
   "cell_type": "code",
   "execution_count": 2,
   "id": "779e2e72",
   "metadata": {},
   "outputs": [
    {
     "data": {
      "text/plain": [
       "24"
      ]
     },
     "execution_count": 2,
     "metadata": {},
     "output_type": "execute_result"
    }
   ],
   "source": [
    "random.randint(-90,90)"
   ]
  },
  {
   "cell_type": "code",
   "execution_count": 3,
   "id": "2484d7ca",
   "metadata": {},
   "outputs": [
    {
     "data": {
      "text/plain": [
       "0.8281217944871135"
      ]
     },
     "execution_count": 3,
     "metadata": {},
     "output_type": "execute_result"
    }
   ],
   "source": [
    "random.random()"
   ]
  },
  {
   "cell_type": "code",
   "execution_count": 4,
   "id": "10cbe9b4",
   "metadata": {},
   "outputs": [
    {
     "data": {
      "text/plain": [
       "35"
      ]
     },
     "execution_count": 4,
     "metadata": {},
     "output_type": "execute_result"
    }
   ],
   "source": [
    "random.randrange(-90,90,step=1)"
   ]
  },
  {
   "cell_type": "code",
   "execution_count": 5,
   "id": "a06e638e",
   "metadata": {},
   "outputs": [
    {
     "data": {
      "text/plain": [
       "-66"
      ]
     },
     "execution_count": 5,
     "metadata": {},
     "output_type": "execute_result"
    }
   ],
   "source": [
    "random.randrange(-90,90,step=3)"
   ]
  },
  {
   "cell_type": "code",
   "execution_count": 6,
   "id": "34b9423d",
   "metadata": {},
   "outputs": [
    {
     "data": {
      "text/plain": [
       "88.04294849714083"
      ]
     },
     "execution_count": 6,
     "metadata": {},
     "output_type": "execute_result"
    }
   ],
   "source": [
    "random.uniform(-90,90)"
   ]
  },
  {
   "cell_type": "code",
   "execution_count": 7,
   "id": "6b7ae1a9",
   "metadata": {},
   "outputs": [],
   "source": [
    "import numpy as np"
   ]
  },
  {
   "cell_type": "code",
   "execution_count": 8,
   "id": "0c9292c5",
   "metadata": {},
   "outputs": [
    {
     "data": {
      "text/plain": [
       "-25.07812599578139"
      ]
     },
     "execution_count": 8,
     "metadata": {},
     "output_type": "execute_result"
    }
   ],
   "source": [
    "np.random.uniform(-90.00,90.00)"
   ]
  },
  {
   "cell_type": "code",
   "execution_count": 9,
   "id": "06cb6575",
   "metadata": {},
   "outputs": [
    {
     "data": {
      "text/plain": [
       "array([-38.37625391,  20.32134031, -69.6524441 ,  38.44567452,\n",
       "       -35.06594114, -31.66722323,  75.85632074,  85.91590769,\n",
       "        38.92058674,  -4.69951792,  13.32051518,   3.16286236,\n",
       "       -24.88313621,  14.16513304,  44.15075   ,  -3.5996176 ,\n",
       "       -62.95494328, -59.66794424,  10.58302108,   0.58200861,\n",
       "        57.16538869,  24.7190399 , -55.05591141,  39.36362227,\n",
       "       -22.68897845,  80.73202945, -69.03673173,  83.10518297,\n",
       "        74.78128577,  20.08759816,  -2.31910046, -75.40614367,\n",
       "       -30.52714308,  51.68108343,  32.70690652, -20.30243589,\n",
       "       -75.25278285,  -9.60493253,  -2.68234181,  68.3207268 ,\n",
       "       -12.60165208,  15.21576403,  70.91052022,  64.16422575,\n",
       "        24.51965321, -87.00733647, -39.52546666, -51.65065773,\n",
       "        72.31175611,  82.73283845])"
      ]
     },
     "execution_count": 9,
     "metadata": {},
     "output_type": "execute_result"
    }
   ],
   "source": [
    "np.random.uniform(-90.00,90.00,size=50)"
   ]
  },
  {
   "cell_type": "code",
   "execution_count": 10,
   "id": "86543796",
   "metadata": {},
   "outputs": [],
   "source": [
    "# Import timeit\n",
    "import timeit"
   ]
  },
  {
   "cell_type": "code",
   "execution_count": 11,
   "id": "93aecbc0",
   "metadata": {},
   "outputs": [
    {
     "name": "stdout",
     "output_type": "stream",
     "text": [
      "11.9 µs ± 173 ns per loop (mean ± std. dev. of 7 runs, 100,000 loops each)\n"
     ]
    }
   ],
   "source": [
    "%timeit np.random.uniform(-90.00,90.00,size=1500)"
   ]
  },
  {
   "cell_type": "code",
   "execution_count": 12,
   "id": "5901c435",
   "metadata": {},
   "outputs": [
    {
     "name": "stdout",
     "output_type": "stream",
     "text": [
      "1.23 ms ± 36.5 µs per loop (mean ± std. dev. of 7 runs, 1,000 loops each)\n"
     ]
    }
   ],
   "source": [
    "def latitudes(size):\n",
    "    latitudes = []\n",
    "    x = 0\n",
    "    while x < (size):\n",
    "        random_lat=random.randint(-90,90) + random.random()\n",
    "        latitudes.append(random_lat)\n",
    "        x+=1\n",
    "    return latitudes\n",
    "\n",
    "# Call the function for a value of 1500\n",
    "%timeit latitudes(1500)"
   ]
  },
  {
   "cell_type": "code",
   "execution_count": 1,
   "id": "41b82f2d",
   "metadata": {},
   "outputs": [],
   "source": [
    "# Import linear regression from the SciPy statistics module\n",
    "from scipy.stats import linregress"
   ]
  },
  {
   "cell_type": "code",
   "execution_count": 2,
   "id": "4a4eda66",
   "metadata": {},
   "outputs": [],
   "source": [
    "# Create an equal number of latitudes and temperatures.\n",
    "lats = [42.5, 43.9, 8.1, 36.8, 79.9, 69.1, 25.7, 15.3, 12.7, 64.5]\n",
    "temps = [80.5, 75.3, 90.9, 90.0, 40.4, 62.3, 85.4, 79.6, 72.5, 72.0]"
   ]
  },
  {
   "cell_type": "code",
   "execution_count": 3,
   "id": "6d92183a",
   "metadata": {},
   "outputs": [
    {
     "name": "stdout",
     "output_type": "stream",
     "text": [
      "y = -0.45x + 92.94\n",
      "P-value of: 0.011\n"
     ]
    }
   ],
   "source": [
    "# Perform linear regression\n",
    "(slope,intercept,r_value,p_value,std_err) = linregress(lats,temps)\n",
    "\n",
    "# Get the equation of the line\n",
    "line_eq = \"y = \" + str(round(slope,2)) + \"x + \" + str(round(intercept,2))\n",
    "\n",
    "print(line_eq)\n",
    "print(f\"P-value of: {p_value:.3f}\")"
   ]
  },
  {
   "cell_type": "code",
   "execution_count": 4,
   "id": "b71eafe1",
   "metadata": {},
   "outputs": [],
   "source": [
    "# Calculate the regression line 'y values' from the slope and intercept\n",
    "regress_values = [(lat * slope + intercept) for lat in lats]"
   ]
  },
  {
   "cell_type": "code",
   "execution_count": 5,
   "id": "f2176892",
   "metadata": {},
   "outputs": [
    {
     "data": {
      "image/png": "[encoded data removed]",
      "text/plain": [
       "<Figure size 432x288 with 1 Axes>"
      ]
     },
     "metadata": {
      "needs_background": "light"
     },
     "output_type": "display_data"
    }
   ],
   "source": [
    "# Import matplotlib\n",
    "import matplotlib.pyplot as plt\n",
    "\n",
    "# Create a scatter of the x and y values\n",
    "plt.scatter(lats,temps)\n",
    "\n",
    "# Plot the regression line with the x-values and the y-coordinates based on the intercept and slope\n",
    "plt.plot(lats,regress_values,\"r\")\n",
    "\n",
    "# Annotate the text for the line equation and add its coordinates\n",
    "plt.annotate(line_eq,(10,40),fontsize=15,color=\"red\")\n",
    "plt.xlabel('Latitude')\n",
    "plt.ylabel('Temps')\n",
    "plt.show()"
   ]
  },
  {
   "cell_type": "code",
   "execution_count": null,
   "id": "31b39e30",
   "metadata": {},
   "outputs": [],
   "source": []
  }
 ],
 "metadata": {
  "kernelspec": {
   "display_name": "PythonData",
   "language": "python",
   "name": "pythondata"
  },
  "language_info": {
   "codemirror_mode": {
    "name": "ipython",
    "version": 3
   },
   "file_extension": ".py",
   "mimetype": "text/x-python",
   "name": "python",
   "nbconvert_exporter": "python",
   "pygments_lexer": "ipython3",
   "version": "3.9.12"
  }
 },
 "nbformat": 4,
 "nbformat_minor": 5
}
